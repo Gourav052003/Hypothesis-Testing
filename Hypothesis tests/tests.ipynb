{
 "cells": [
  {
   "cell_type": "code",
   "execution_count": 2,
   "metadata": {},
   "outputs": [
    {
     "name": "stderr",
     "output_type": "stream",
     "text": [
      "C:\\Users\\hp\\AppData\\Local\\Temp\\ipykernel_1736\\994255653.py:1: DeprecationWarning: \n",
      "Pyarrow will become a required dependency of pandas in the next major release of pandas (pandas 3.0),\n",
      "(to allow more performant data types, such as the Arrow string type, and better interoperability with other libraries)\n",
      "but was not found to be installed on your system.\n",
      "If this would cause problems for you,\n",
      "please provide us feedback at https://github.com/pandas-dev/pandas/issues/54466\n",
      "        \n",
      "  import pandas as pd\n"
     ]
    }
   ],
   "source": [
    "import pandas as pd\n",
    "import math\n",
    "import warnings\n",
    "warnings.filterwarnings('ignore')"
   ]
  },
  {
   "cell_type": "code",
   "execution_count": 3,
   "metadata": {},
   "outputs": [
    {
     "data": {
      "text/html": [
       "<div>\n",
       "<style scoped>\n",
       "    .dataframe tbody tr th:only-of-type {\n",
       "        vertical-align: middle;\n",
       "    }\n",
       "\n",
       "    .dataframe tbody tr th {\n",
       "        vertical-align: top;\n",
       "    }\n",
       "\n",
       "    .dataframe thead th {\n",
       "        text-align: right;\n",
       "    }\n",
       "</style>\n",
       "<table border=\"1\" class=\"dataframe\">\n",
       "  <thead>\n",
       "    <tr style=\"text-align: right;\">\n",
       "      <th></th>\n",
       "      <th>id</th>\n",
       "      <th>age</th>\n",
       "      <th>gender</th>\n",
       "      <th>height</th>\n",
       "      <th>weight</th>\n",
       "      <th>ap_hi</th>\n",
       "      <th>ap_lo</th>\n",
       "      <th>cholesterol</th>\n",
       "      <th>smoke</th>\n",
       "    </tr>\n",
       "  </thead>\n",
       "  <tbody>\n",
       "    <tr>\n",
       "      <th>0</th>\n",
       "      <td>0</td>\n",
       "      <td>18393</td>\n",
       "      <td>2</td>\n",
       "      <td>168</td>\n",
       "      <td>62.0</td>\n",
       "      <td>110</td>\n",
       "      <td>80</td>\n",
       "      <td>1</td>\n",
       "      <td>0</td>\n",
       "    </tr>\n",
       "    <tr>\n",
       "      <th>1</th>\n",
       "      <td>1</td>\n",
       "      <td>20228</td>\n",
       "      <td>1</td>\n",
       "      <td>156</td>\n",
       "      <td>85.0</td>\n",
       "      <td>140</td>\n",
       "      <td>90</td>\n",
       "      <td>3</td>\n",
       "      <td>0</td>\n",
       "    </tr>\n",
       "    <tr>\n",
       "      <th>2</th>\n",
       "      <td>2</td>\n",
       "      <td>18857</td>\n",
       "      <td>1</td>\n",
       "      <td>165</td>\n",
       "      <td>64.0</td>\n",
       "      <td>130</td>\n",
       "      <td>70</td>\n",
       "      <td>3</td>\n",
       "      <td>0</td>\n",
       "    </tr>\n",
       "    <tr>\n",
       "      <th>3</th>\n",
       "      <td>3</td>\n",
       "      <td>17623</td>\n",
       "      <td>2</td>\n",
       "      <td>169</td>\n",
       "      <td>82.0</td>\n",
       "      <td>150</td>\n",
       "      <td>100</td>\n",
       "      <td>1</td>\n",
       "      <td>0</td>\n",
       "    </tr>\n",
       "    <tr>\n",
       "      <th>4</th>\n",
       "      <td>4</td>\n",
       "      <td>17474</td>\n",
       "      <td>1</td>\n",
       "      <td>156</td>\n",
       "      <td>56.0</td>\n",
       "      <td>100</td>\n",
       "      <td>60</td>\n",
       "      <td>1</td>\n",
       "      <td>0</td>\n",
       "    </tr>\n",
       "  </tbody>\n",
       "</table>\n",
       "</div>"
      ],
      "text/plain": [
       "   id    age  gender  height  weight  ap_hi  ap_lo  cholesterol  smoke\n",
       "0   0  18393       2     168    62.0    110     80            1      0\n",
       "1   1  20228       1     156    85.0    140     90            3      0\n",
       "2   2  18857       1     165    64.0    130     70            3      0\n",
       "3   3  17623       2     169    82.0    150    100            1      0\n",
       "4   4  17474       1     156    56.0    100     60            1      0"
      ]
     },
     "execution_count": 3,
     "metadata": {},
     "output_type": "execute_result"
    }
   ],
   "source": [
    "CARDIO_BASE_df = pd.read_csv('C:\\\\Users\\\\hp\\\\Desktop\\\\Projects\\\\Hypothesis-Testing\\\\Data\\\\cardio_base.csv',delimiter=',')\n",
    "CARDIO_BASE_df.head()"
   ]
  },
  {
   "cell_type": "code",
   "execution_count": 4,
   "metadata": {},
   "outputs": [
    {
     "data": {
      "text/html": [
       "<div>\n",
       "<style scoped>\n",
       "    .dataframe tbody tr th:only-of-type {\n",
       "        vertical-align: middle;\n",
       "    }\n",
       "\n",
       "    .dataframe tbody tr th {\n",
       "        vertical-align: top;\n",
       "    }\n",
       "\n",
       "    .dataframe thead th {\n",
       "        text-align: right;\n",
       "    }\n",
       "</style>\n",
       "<table border=\"1\" class=\"dataframe\">\n",
       "  <thead>\n",
       "    <tr style=\"text-align: right;\">\n",
       "      <th></th>\n",
       "      <th>id</th>\n",
       "      <th>age</th>\n",
       "      <th>gender</th>\n",
       "      <th>height</th>\n",
       "      <th>weight</th>\n",
       "      <th>ap_hi</th>\n",
       "      <th>ap_lo</th>\n",
       "      <th>cholesterol</th>\n",
       "      <th>smoke</th>\n",
       "    </tr>\n",
       "  </thead>\n",
       "  <tbody>\n",
       "    <tr>\n",
       "      <th>0</th>\n",
       "      <td>0</td>\n",
       "      <td>50</td>\n",
       "      <td>2</td>\n",
       "      <td>168</td>\n",
       "      <td>62.0</td>\n",
       "      <td>110</td>\n",
       "      <td>80</td>\n",
       "      <td>1</td>\n",
       "      <td>0</td>\n",
       "    </tr>\n",
       "    <tr>\n",
       "      <th>1</th>\n",
       "      <td>1</td>\n",
       "      <td>55</td>\n",
       "      <td>1</td>\n",
       "      <td>156</td>\n",
       "      <td>85.0</td>\n",
       "      <td>140</td>\n",
       "      <td>90</td>\n",
       "      <td>3</td>\n",
       "      <td>0</td>\n",
       "    </tr>\n",
       "    <tr>\n",
       "      <th>2</th>\n",
       "      <td>2</td>\n",
       "      <td>51</td>\n",
       "      <td>1</td>\n",
       "      <td>165</td>\n",
       "      <td>64.0</td>\n",
       "      <td>130</td>\n",
       "      <td>70</td>\n",
       "      <td>3</td>\n",
       "      <td>0</td>\n",
       "    </tr>\n",
       "    <tr>\n",
       "      <th>3</th>\n",
       "      <td>3</td>\n",
       "      <td>48</td>\n",
       "      <td>2</td>\n",
       "      <td>169</td>\n",
       "      <td>82.0</td>\n",
       "      <td>150</td>\n",
       "      <td>100</td>\n",
       "      <td>1</td>\n",
       "      <td>0</td>\n",
       "    </tr>\n",
       "    <tr>\n",
       "      <th>4</th>\n",
       "      <td>4</td>\n",
       "      <td>47</td>\n",
       "      <td>1</td>\n",
       "      <td>156</td>\n",
       "      <td>56.0</td>\n",
       "      <td>100</td>\n",
       "      <td>60</td>\n",
       "      <td>1</td>\n",
       "      <td>0</td>\n",
       "    </tr>\n",
       "  </tbody>\n",
       "</table>\n",
       "</div>"
      ],
      "text/plain": [
       "   id  age  gender  height  weight  ap_hi  ap_lo  cholesterol  smoke\n",
       "0   0   50       2     168    62.0    110     80            1      0\n",
       "1   1   55       1     156    85.0    140     90            3      0\n",
       "2   2   51       1     165    64.0    130     70            3      0\n",
       "3   3   48       2     169    82.0    150    100            1      0\n",
       "4   4   47       1     156    56.0    100     60            1      0"
      ]
     },
     "execution_count": 4,
     "metadata": {},
     "output_type": "execute_result"
    }
   ],
   "source": [
    "CARDIO_BASE_df[\"age\"] = CARDIO_BASE_df[\"age\"].apply(lambda x:math.floor(x/365))\n",
    "CARDIO_BASE_df.head()"
   ]
  },
  {
   "cell_type": "markdown",
   "metadata": {},
   "source": [
    "# Parametric test"
   ]
  },
  {
   "cell_type": "code",
   "execution_count": 5,
   "metadata": {},
   "outputs": [],
   "source": [
    "import seaborn as sns"
   ]
  },
  {
   "cell_type": "code",
   "execution_count": 6,
   "metadata": {},
   "outputs": [
    {
     "data": {
      "text/plain": [
       "<Axes: xlabel='weight', ylabel='Density'>"
      ]
     },
     "execution_count": 6,
     "metadata": {},
     "output_type": "execute_result"
    },
    {
     "data": {
      "image/png": "[encoded data removed]",
      "text/plain": [
       "<Figure size 640x480 with 1 Axes>"
      ]
     },
     "metadata": {},
     "output_type": "display_data"
    }
   ],
   "source": [
    "# checking for normally distributed data beacuse parametric test give accurate results with normally distributes data \n",
    "# although parameteric test can also be done for non - normal distributed data\n",
    "sns.distplot(CARDIO_BASE_df[\"weight\"])"
   ]
  },
  {
   "cell_type": "markdown",
   "metadata": {},
   "source": [
    "### Ztest\n",
    "* one sample test\n",
    "* two sample test"
   ]
  },
  {
   "cell_type": "code",
   "execution_count": 7,
   "metadata": {},
   "outputs": [],
   "source": [
    "# ztest is used for comparing the means of one sample with specified population mean value is known as one sample test,\n",
    "# where comparing two samples means differenece or correlation with each other is called two sample test \n",
    "from statsmodels.stats.weightstats import ztest"
   ]
  },
  {
   "cell_type": "code",
   "execution_count": 8,
   "metadata": {},
   "outputs": [
    {
     "data": {
      "text/plain": [
       "(1.4494978444004245, 0.14719860188549572)"
      ]
     },
     "execution_count": 8,
     "metadata": {},
     "output_type": "execute_result"
    }
   ],
   "source": [
    "# one sample ztest\n",
    "# If the p-value <0.05 than null hypothesis of having sample mean equal to 74.15 is rejected\n",
    "ztest(x1 = CARDIO_BASE_df[\"weight\"].sample(100).values,value = 74.15)"
   ]
  },
  {
   "cell_type": "code",
   "execution_count": 9,
   "metadata": {},
   "outputs": [
    {
     "data": {
      "text/plain": [
       "(-0.1707558010011668, 0.8644157842404898)"
      ]
     },
     "execution_count": 9,
     "metadata": {},
     "output_type": "execute_result"
    }
   ],
   "source": [
    "# two sample ztest\n",
    "# If the p-value <0.05 than null hypothesis of having samples mean difference equal to 0 is rejected\n",
    "# Here the standard deviation of the samples is assumed to be the same, usevar : 'pooled' by default\n",
    "# You can change the hypotheis using \"alternative\" paramneter\n",
    "\n",
    "# this two sample z test also can be used for independent paired samples for comparing difference in means\n",
    "ztest(x1 = CARDIO_BASE_df[\"weight\"].sample(100).values,x2 = CARDIO_BASE_df[\"weight\"].sample(100).values,value = 0)"
   ]
  },
  {
   "cell_type": "markdown",
   "metadata": {},
   "source": [
    "#### Take knowledge about parameters from statsmodel documentation"
   ]
  },
  {
   "cell_type": "markdown",
   "metadata": {},
   "source": [
    "## T-test\n",
    "* one sample test\n",
    "* Independent two sample\n",
    "    1. equal variance\n",
    "    2. uneuqal variance\n",
    "* Dependent/Paired two sample"
   ]
  },
  {
   "cell_type": "code",
   "execution_count": 10,
   "metadata": {},
   "outputs": [],
   "source": [
    "# t-test is used when we do not know the population standard deviation\n",
    "from scipy.stats import ttest_1samp"
   ]
  },
  {
   "cell_type": "code",
   "execution_count": 12,
   "metadata": {},
   "outputs": [
    {
     "data": {
      "text/plain": [
       "TtestResult(statistic=0.5943557248176086, pvalue=0.5536300703557842, df=99)"
      ]
     },
     "execution_count": 12,
     "metadata": {},
     "output_type": "execute_result"
    }
   ],
   "source": [
    "# one sample t-test\n",
    "# alternative parameter is used for <,> = popmean\n",
    "\n",
    "ttest_1samp(a=CARDIO_BASE_df[\"weight\"].sample(100).values, popmean=74.15)"
   ]
  },
  {
   "cell_type": "markdown",
   "metadata": {},
   "source": [
    "### Independent sample test"
   ]
  },
  {
   "cell_type": "markdown",
   "metadata": {},
   "source": [
    "### two independent sample t test for comparing the two independent sample mean are eaual, less , greater depending on 'altenative' parameter\n"
   ]
  },
  {
   "cell_type": "code",
   "execution_count": null,
   "metadata": {},
   "outputs": [],
   "source": [
    "# Researchers want to know whether or not two different species of plants have the same mean height. To test this, they collect a simple random sample of 20 plants from each species."
   ]
  },
  {
   "cell_type": "code",
   "execution_count": 14,
   "metadata": {},
   "outputs": [],
   "source": [
    "# two independent sample t test for comparing the two independent population mean are eaual, less , greater depending on 'altenative' parameter\n",
    "from scipy.stats import ttest_ind\n",
    "import numpy as np"
   ]
  },
  {
   "cell_type": "code",
   "execution_count": 24,
   "metadata": {},
   "outputs": [
    {
     "name": "stdout",
     "output_type": "stream",
     "text": [
      "7.727500000000001 12.260000000000002\n"
     ]
    }
   ],
   "source": [
    "# Before we perform the test, we need to decide if we’ll assume the two populations have equal variances or not. As a rule of thumb, we can assume the populations have equal variances if the ratio of the larger sample variance to the smaller sample variance is less than 4:1. \n",
    "\n",
    "group1 = np.array([14, 15, 15, 16, 13, 8, 14, 17, 16, 14, 19, 20, 21, 15, 15, 16, 16, 13, 14, 12])\n",
    "group2 = np.array([15, 17, 14, 17, 14, 8, 12, 19, 19, 14, 17, 22, 24, 16, 13, 16, 13, 18, 15, 13])\n",
    "print(np.var(group1), np.var(group2))\n"
   ]
  },
  {
   "cell_type": "code",
   "execution_count": 25,
   "metadata": {},
   "outputs": [
    {
     "data": {
      "text/plain": [
       "1.586541572306697"
      ]
     },
     "execution_count": 25,
     "metadata": {},
     "output_type": "execute_result"
    }
   ],
   "source": [
    "12.260000000000002/7.727500000000001"
   ]
  },
  {
   "cell_type": "code",
   "execution_count": 26,
   "metadata": {},
   "outputs": [
    {
     "data": {
      "text/plain": [
       "TtestResult(statistic=-0.6337397070250238, pvalue=0.5300471010405257, df=38.0)"
      ]
     },
     "execution_count": 26,
     "metadata": {},
     "output_type": "execute_result"
    }
   ],
   "source": [
    "#perform two sample t-test with equal variances\n",
    "ttest_ind(a=group1, b=group2, equal_var=True)\n"
   ]
  },
  {
   "cell_type": "code",
   "execution_count": 33,
   "metadata": {},
   "outputs": [
    {
     "name": "stdout",
     "output_type": "stream",
     "text": [
      "7.727500000000001 37.1475\n"
     ]
    }
   ],
   "source": [
    "group1 = np.array([14, 15, 15, 16, 13, 8, 14, 17, 16, 14, 19, 20, 21, 15, 15, 16, 16, 13, 14, 12])\n",
    "group2 = np.array([15, 5, 10, 2, 16, 8, 12, 3, 19, 5, 17, 1, 24, 16, 13, 16, 13, 18, 15, 13])\n",
    "print(np.var(group1), np.var(group2))"
   ]
  },
  {
   "cell_type": "code",
   "execution_count": 34,
   "metadata": {},
   "outputs": [
    {
     "data": {
      "text/plain": [
       "4.807182141701714"
      ]
     },
     "execution_count": 34,
     "metadata": {},
     "output_type": "execute_result"
    }
   ],
   "source": [
    "37.1475/7.727500000000001"
   ]
  },
  {
   "cell_type": "code",
   "execution_count": 35,
   "metadata": {},
   "outputs": [
    {
     "data": {
      "text/plain": [
       "TtestResult(statistic=2.0171410309442077, pvalue=0.05388591692360517, df=26.57695965396336)"
      ]
     },
     "execution_count": 35,
     "metadata": {},
     "output_type": "execute_result"
    }
   ],
   "source": [
    "#perform two sample t-test with unequal variances\n",
    "ttest_ind(a=group1, b=group2, equal_var=False)\n"
   ]
  },
  {
   "cell_type": "code",
   "execution_count": 36,
   "metadata": {},
   "outputs": [],
   "source": [
    "# equal_var: if True, perform a standard independent 2 sample t-test that assumes equal population variances. If False, perform Welch’s t-test, which does not assume equal population variances. This is True by default."
   ]
  },
  {
   "cell_type": "markdown",
   "metadata": {},
   "source": [
    "### Paried samples or dependent samples t test "
   ]
  },
  {
   "cell_type": "code",
   "execution_count": null,
   "metadata": {},
   "outputs": [],
   "source": [
    "# Suppose we want to know whether a certain study program significantly impacts student performance on a particular exam. To test this, we have 15 students in a class take a pre-test. Then, we have each of the students participate in the study program for two weeks. Then, the students retake a test of similar difficulty.\n",
    "\n",
    "# To compare the difference between the mean scores on the first and second test, we use a paired samples t-test because for each student their first test score can be paired with their second test score."
   ]
  },
  {
   "cell_type": "code",
   "execution_count": 37,
   "metadata": {},
   "outputs": [],
   "source": [
    "pre = [88, 82, 84, 93, 75, 78, 84, 87, 95, 91, 83, 89, 77, 68, 91]\n",
    "post = [91, 84, 88, 90, 79, 80, 88, 90, 90, 96, 88, 89, 81, 74, 92]"
   ]
  },
  {
   "cell_type": "code",
   "execution_count": 39,
   "metadata": {},
   "outputs": [
    {
     "data": {
      "text/plain": [
       "TtestResult(statistic=-2.9732484231168796, pvalue=0.01007144862643272, df=14)"
      ]
     },
     "execution_count": 39,
     "metadata": {},
     "output_type": "execute_result"
    }
   ],
   "source": [
    "from scipy.stats import ttest_rel\n",
    "\n",
    "#perform the paired samples t-test\n",
    "ttest_rel(pre, post)\n"
   ]
  },
  {
   "cell_type": "code",
   "execution_count": 40,
   "metadata": {},
   "outputs": [],
   "source": [
    "# The test statistic is -2.9732 and the corresponding two-sided p-value is 0.0101.\n",
    "\n",
    "# Since the p-value (0.0101) is less than 0.05, we reject the null hypothesis. We have sufficient evidence to say that the true mean test score is different for students before and after participating in the study program."
   ]
  },
  {
   "cell_type": "code",
   "execution_count": 41,
   "metadata": {},
   "outputs": [],
   "source": [
    "from scipy.stats import pearsonr"
   ]
  },
  {
   "cell_type": "code",
   "execution_count": 42,
   "metadata": {},
   "outputs": [
    {
     "data": {
      "text/plain": [
       "PearsonRResult(statistic=0.05656408462606825, pvalue=0.5761773029715989)"
      ]
     },
     "execution_count": 42,
     "metadata": {},
     "output_type": "execute_result"
    }
   ],
   "source": [
    "# alternative{‘two-sided’, ‘greater’, ‘less’}, optional\n",
    "# Defines the alternative hypothesis. Default is ‘two-sided’. The following options are available:\n",
    "\n",
    "# ‘two-sided’: the correlation is nonzero\n",
    "\n",
    "# ‘less’: the correlation is negative (less than zero)\n",
    "\n",
    "# ‘greater’: the correlation is positive (greater than zero)\n",
    "\n",
    "pearsonr(x=CARDIO_BASE_df[\"weight\"].sample(100).values,y = CARDIO_BASE_df[\"weight\"].sample(100).values)"
   ]
  },
  {
   "cell_type": "code",
   "execution_count": 7,
   "metadata": {},
   "outputs": [
    {
     "data": {
      "text/plain": [
       "(4.387122002085505, 0.01912653593238578)"
      ]
     },
     "execution_count": 7,
     "metadata": {},
     "output_type": "execute_result"
    }
   ],
   "source": [
    "# An F-test is used to test whether two population variances are equal. The null and alternative hypotheses for the test are as follows:\n",
    "\n",
    "# H0: σ12 = σ22 (the population variances are equal)\n",
    "# H1: σ12 ≠ σ22 (the population variances are not equal)\n",
    "\n",
    "x = [18, 19, 22, 25, 27, 28, 41, 45, 51, 55]\n",
    "y = [14, 15, 15, 17, 18, 22, 25, 25, 27, 34]\n",
    "\n",
    "import numpy as np\n",
    "import scipy\n",
    "#define F-test function\n",
    "def f_test(x, y):\n",
    "    x = np.array(x)\n",
    "    y = np.array(y)\n",
    "    f = np.var(x, ddof=1)/np.var(y, ddof=1) #calculate F test statistic  #ddof N-ddof or N-1\n",
    "    dfn = x.size-1 #define degrees of freedom numerator \n",
    "    dfd = y.size-1 #define degrees of freedom denominator \n",
    "    p = 1-scipy.stats.f.cdf(f, dfn, dfd) #find p-value of F test statistic \n",
    "    return f, p\n",
    "\n",
    "#perform F-test\n",
    "\n",
    "# The F test statistic is 4.38712 and the corresponding p-value is 0.019127. Since this p-value is less than .05, we would reject the null hypothesis. \n",
    "# This means we have sufficient evidence to say that the two population variances are not equal.\n",
    "f_test(x, y)\n",
    "# example\n",
    "#  Does a new treatment or process reduce the variability of some current treatment or process?"
   ]
  },
  {
   "cell_type": "code",
   "execution_count": 9,
   "metadata": {},
   "outputs": [
    {
     "data": {
      "text/plain": [
       "F_onewayResult(statistic=2.3575322551335636, pvalue=0.11384795345837219)"
      ]
     },
     "execution_count": 9,
     "metadata": {},
     "output_type": "execute_result"
    }
   ],
   "source": [
    "# A one-way ANOVA (“analysis of variance”) is used to determine whether or not there is a statistically significant difference between the \n",
    "# means of three or more independent groups.\n",
    "\n",
    "# A researcher recruits 30 students to participate in a study. The students are randomly assigned to use one of three studying techniques for the next three weeks to prepare for an exam. At the end of the three weeks, all of the students take the same test. \n",
    "# Use the following steps to perform a one-way ANOVA to determine if the average scores are the same across all three groups.\n",
    "\n",
    "#enter exam scores for each group\n",
    "group1 = [85, 86, 88, 75, 78, 94, 98, 79, 71, 80]\n",
    "group2 = [91, 92, 93, 85, 87, 84, 82, 88, 95, 96]\n",
    "group3 = [79, 78, 88, 94, 92, 85, 83, 85, 82, 81]\n",
    "\n",
    "from scipy.stats import f_oneway\n",
    "\n",
    "#perform one-way ANOVA\n",
    "f_oneway(group1, group2, group3)\n",
    "\n",
    "# The F test statistic is 2.3575 and the corresponding p-value is 0.1138. Since the p-value is not less than .05, we fail to reject the null hypothesis.\n",
    "# This means we do not have sufficient evidence to say that there is a difference in exam scores among the three studying techniques.\n",
    "\n",
    "\n",
    "\n",
    "\n"
   ]
  },
  {
   "cell_type": "code",
   "execution_count": 1,
   "metadata": {},
   "outputs": [
    {
     "name": "stderr",
     "output_type": "stream",
     "text": [
      "C:\\Users\\hp\\AppData\\Local\\Temp\\ipykernel_3424\\4239627597.py:16: DeprecationWarning: \n",
      "Pyarrow will become a required dependency of pandas in the next major release of pandas (pandas 3.0),\n",
      "(to allow more performant data types, such as the Arrow string type, and better interoperability with other libraries)\n",
      "but was not found to be installed on your system.\n",
      "If this would cause problems for you,\n",
      "please provide us feedback at https://github.com/pandas-dev/pandas/issues/54466\n",
      "        \n",
      "  import pandas as pd\n"
     ]
    },
    {
     "data": {
      "text/html": [
       "<div>\n",
       "<style scoped>\n",
       "    .dataframe tbody tr th:only-of-type {\n",
       "        vertical-align: middle;\n",
       "    }\n",
       "\n",
       "    .dataframe tbody tr th {\n",
       "        vertical-align: top;\n",
       "    }\n",
       "\n",
       "    .dataframe thead th {\n",
       "        text-align: right;\n",
       "    }\n",
       "</style>\n",
       "<table border=\"1\" class=\"dataframe\">\n",
       "  <thead>\n",
       "    <tr style=\"text-align: right;\">\n",
       "      <th></th>\n",
       "      <th>water</th>\n",
       "      <th>sun</th>\n",
       "      <th>height</th>\n",
       "    </tr>\n",
       "  </thead>\n",
       "  <tbody>\n",
       "    <tr>\n",
       "      <th>0</th>\n",
       "      <td>daily</td>\n",
       "      <td>low</td>\n",
       "      <td>6</td>\n",
       "    </tr>\n",
       "    <tr>\n",
       "      <th>1</th>\n",
       "      <td>daily</td>\n",
       "      <td>low</td>\n",
       "      <td>6</td>\n",
       "    </tr>\n",
       "    <tr>\n",
       "      <th>2</th>\n",
       "      <td>daily</td>\n",
       "      <td>low</td>\n",
       "      <td>6</td>\n",
       "    </tr>\n",
       "    <tr>\n",
       "      <th>3</th>\n",
       "      <td>daily</td>\n",
       "      <td>low</td>\n",
       "      <td>5</td>\n",
       "    </tr>\n",
       "    <tr>\n",
       "      <th>4</th>\n",
       "      <td>daily</td>\n",
       "      <td>low</td>\n",
       "      <td>6</td>\n",
       "    </tr>\n",
       "    <tr>\n",
       "      <th>5</th>\n",
       "      <td>daily</td>\n",
       "      <td>med</td>\n",
       "      <td>5</td>\n",
       "    </tr>\n",
       "    <tr>\n",
       "      <th>6</th>\n",
       "      <td>daily</td>\n",
       "      <td>med</td>\n",
       "      <td>5</td>\n",
       "    </tr>\n",
       "    <tr>\n",
       "      <th>7</th>\n",
       "      <td>daily</td>\n",
       "      <td>med</td>\n",
       "      <td>6</td>\n",
       "    </tr>\n",
       "    <tr>\n",
       "      <th>8</th>\n",
       "      <td>daily</td>\n",
       "      <td>med</td>\n",
       "      <td>4</td>\n",
       "    </tr>\n",
       "    <tr>\n",
       "      <th>9</th>\n",
       "      <td>daily</td>\n",
       "      <td>med</td>\n",
       "      <td>5</td>\n",
       "    </tr>\n",
       "  </tbody>\n",
       "</table>\n",
       "</div>"
      ],
      "text/plain": [
       "   water  sun  height\n",
       "0  daily  low       6\n",
       "1  daily  low       6\n",
       "2  daily  low       6\n",
       "3  daily  low       5\n",
       "4  daily  low       6\n",
       "5  daily  med       5\n",
       "6  daily  med       5\n",
       "7  daily  med       6\n",
       "8  daily  med       4\n",
       "9  daily  med       5"
      ]
     },
     "execution_count": 1,
     "metadata": {},
     "output_type": "execute_result"
    }
   ],
   "source": [
    "# two way annova\n",
    "\n",
    "# A botanist wants to know whether or not plant growth is influenced by sunlight exposure and watering frequency. \n",
    "# She plants 30 seeds and lets them grow for two months under different conditions for sunlight exposure and watering frequency. \n",
    "# After two months, she records the height of each plant, in inches\n",
    "\n",
    "# To perform a two-way ANOVA to determine if watering frequency and sunlight exposure have a significant effect on plant growth, and \n",
    "# to determine if there is any interaction effect between watering frequency and sunlight exposure.\n",
    "\n",
    "\n",
    "# water: how frequently each plant was watered: daily or weekly\n",
    "# sun: how much sunlight exposure each plant received: low, medium, or high\n",
    "# height: the height of each plant (in inches) after two months\n",
    "\n",
    "import numpy as np\n",
    "import pandas as pd\n",
    "\n",
    "#create data\n",
    "df = pd.DataFrame({'water': np.repeat(['daily', 'weekly'], 15),\n",
    "                   'sun': np.tile(np.repeat(['low', 'med', 'high'], 5), 2),\n",
    "                   'height': [6, 6, 6, 5, 6, 5, 5, 6, 4, 5,\n",
    "                              6, 6, 7, 8, 7, 3, 4, 4, 4, 5,\n",
    "                              4, 4, 4, 4, 4, 5, 6, 6, 7, 8]})\n",
    "\n",
    "#view first ten rows of data \n",
    "df[:10]"
   ]
  },
  {
   "cell_type": "code",
   "execution_count": 2,
   "metadata": {},
   "outputs": [
    {
     "data": {
      "text/html": [
       "<div>\n",
       "<style scoped>\n",
       "    .dataframe tbody tr th:only-of-type {\n",
       "        vertical-align: middle;\n",
       "    }\n",
       "\n",
       "    .dataframe tbody tr th {\n",
       "        vertical-align: top;\n",
       "    }\n",
       "\n",
       "    .dataframe thead th {\n",
       "        text-align: right;\n",
       "    }\n",
       "</style>\n",
       "<table border=\"1\" class=\"dataframe\">\n",
       "  <thead>\n",
       "    <tr style=\"text-align: right;\">\n",
       "      <th></th>\n",
       "      <th>sum_sq</th>\n",
       "      <th>df</th>\n",
       "      <th>F</th>\n",
       "      <th>PR(&gt;F)</th>\n",
       "    </tr>\n",
       "  </thead>\n",
       "  <tbody>\n",
       "    <tr>\n",
       "      <th>C(water)</th>\n",
       "      <td>8.533333</td>\n",
       "      <td>1.0</td>\n",
       "      <td>16.0000</td>\n",
       "      <td>0.000527</td>\n",
       "    </tr>\n",
       "    <tr>\n",
       "      <th>C(sun)</th>\n",
       "      <td>24.866667</td>\n",
       "      <td>2.0</td>\n",
       "      <td>23.3125</td>\n",
       "      <td>0.000002</td>\n",
       "    </tr>\n",
       "    <tr>\n",
       "      <th>C(water):C(sun)</th>\n",
       "      <td>2.466667</td>\n",
       "      <td>2.0</td>\n",
       "      <td>2.3125</td>\n",
       "      <td>0.120667</td>\n",
       "    </tr>\n",
       "    <tr>\n",
       "      <th>Residual</th>\n",
       "      <td>12.800000</td>\n",
       "      <td>24.0</td>\n",
       "      <td>NaN</td>\n",
       "      <td>NaN</td>\n",
       "    </tr>\n",
       "  </tbody>\n",
       "</table>\n",
       "</div>"
      ],
      "text/plain": [
       "                    sum_sq    df        F    PR(>F)\n",
       "C(water)          8.533333   1.0  16.0000  0.000527\n",
       "C(sun)           24.866667   2.0  23.3125  0.000002\n",
       "C(water):C(sun)   2.466667   2.0   2.3125  0.120667\n",
       "Residual         12.800000  24.0      NaN       NaN"
      ]
     },
     "execution_count": 2,
     "metadata": {},
     "output_type": "execute_result"
    }
   ],
   "source": [
    "import statsmodels.api as sm\n",
    "from statsmodels.formula.api import ols\n",
    "\n",
    "#perform two-way ANOVA\n",
    "model = ols('height ~ C(water) + C(sun) + C(water):C(sun)', data=df).fit()\n",
    "sm.stats.anova_lm(model, typ=2)\n",
    "\n",
    "# water: p-value = .000527\n",
    "# sun: p-value = .0000002\n",
    "# water*sun: p-value = .120667\n",
    "\n",
    "# Since the p-values for water and sun are both less than .05, this means that both factors have a statistically significant effect on plant height.\n",
    "# And since the p-value for the interaction effect (.120667) is not less than .05, this tells us that there is no significant interaction effect between \n",
    "# sunlight exposure and watering frequency."
   ]
  },
  {
   "cell_type": "code",
   "execution_count": 3,
   "metadata": {},
   "outputs": [
    {
     "data": {
      "text/html": [
       "<div>\n",
       "<style scoped>\n",
       "    .dataframe tbody tr th:only-of-type {\n",
       "        vertical-align: middle;\n",
       "    }\n",
       "\n",
       "    .dataframe tbody tr th {\n",
       "        vertical-align: top;\n",
       "    }\n",
       "\n",
       "    .dataframe thead th {\n",
       "        text-align: right;\n",
       "    }\n",
       "</style>\n",
       "<table border=\"1\" class=\"dataframe\">\n",
       "  <thead>\n",
       "    <tr style=\"text-align: right;\">\n",
       "      <th></th>\n",
       "      <th>program</th>\n",
       "      <th>gender</th>\n",
       "      <th>division</th>\n",
       "      <th>height</th>\n",
       "    </tr>\n",
       "  </thead>\n",
       "  <tbody>\n",
       "    <tr>\n",
       "      <th>0</th>\n",
       "      <td>1</td>\n",
       "      <td>M</td>\n",
       "      <td>1</td>\n",
       "      <td>7</td>\n",
       "    </tr>\n",
       "    <tr>\n",
       "      <th>1</th>\n",
       "      <td>1</td>\n",
       "      <td>M</td>\n",
       "      <td>1</td>\n",
       "      <td>7</td>\n",
       "    </tr>\n",
       "    <tr>\n",
       "      <th>2</th>\n",
       "      <td>1</td>\n",
       "      <td>M</td>\n",
       "      <td>1</td>\n",
       "      <td>8</td>\n",
       "    </tr>\n",
       "    <tr>\n",
       "      <th>3</th>\n",
       "      <td>1</td>\n",
       "      <td>M</td>\n",
       "      <td>1</td>\n",
       "      <td>8</td>\n",
       "    </tr>\n",
       "    <tr>\n",
       "      <th>4</th>\n",
       "      <td>1</td>\n",
       "      <td>M</td>\n",
       "      <td>1</td>\n",
       "      <td>7</td>\n",
       "    </tr>\n",
       "    <tr>\n",
       "      <th>5</th>\n",
       "      <td>1</td>\n",
       "      <td>M</td>\n",
       "      <td>2</td>\n",
       "      <td>6</td>\n",
       "    </tr>\n",
       "    <tr>\n",
       "      <th>6</th>\n",
       "      <td>1</td>\n",
       "      <td>M</td>\n",
       "      <td>2</td>\n",
       "      <td>6</td>\n",
       "    </tr>\n",
       "    <tr>\n",
       "      <th>7</th>\n",
       "      <td>1</td>\n",
       "      <td>M</td>\n",
       "      <td>2</td>\n",
       "      <td>5</td>\n",
       "    </tr>\n",
       "    <tr>\n",
       "      <th>8</th>\n",
       "      <td>1</td>\n",
       "      <td>M</td>\n",
       "      <td>2</td>\n",
       "      <td>6</td>\n",
       "    </tr>\n",
       "    <tr>\n",
       "      <th>9</th>\n",
       "      <td>1</td>\n",
       "      <td>M</td>\n",
       "      <td>2</td>\n",
       "      <td>5</td>\n",
       "    </tr>\n",
       "  </tbody>\n",
       "</table>\n",
       "</div>"
      ],
      "text/plain": [
       "   program gender  division  height\n",
       "0        1      M         1       7\n",
       "1        1      M         1       7\n",
       "2        1      M         1       8\n",
       "3        1      M         1       8\n",
       "4        1      M         1       7\n",
       "5        1      M         2       6\n",
       "6        1      M         2       6\n",
       "7        1      M         2       5\n",
       "8        1      M         2       6\n",
       "9        1      M         2       5"
      ]
     },
     "execution_count": 3,
     "metadata": {},
     "output_type": "execute_result"
    }
   ],
   "source": [
    "# A three-way ANOVA is used to determine whether or not there is a statistically significant difference between the means of three or more independent groups \n",
    "# that have been split on three factors.\n",
    "\n",
    "\"\"\"\n",
    "Suppose a researcher wants to determine if two training programs lead to different mean improvements in jumping height among college basketball players.\n",
    "\n",
    "The researcher suspects that gender and division (Division I or II) may also affect jumping height so he collects data for these factors as well.\n",
    "\n",
    "His goal is to perform a three-way ANOVA to determine how training program, gender, and division affect jumping height.\n",
    "\n",
    "\"\"\"\n",
    "\n",
    "import numpy as np\n",
    "import pandas as pd\n",
    "\n",
    "#create DataFrame\n",
    "df = pd.DataFrame({'program': np.repeat([1, 2], 20),\n",
    "                   'gender': np.tile(np.repeat(['M', 'F'], 10), 2),\n",
    "                   'division': np.tile(np.repeat([1, 2], 5), 4),\n",
    "                   'height': [7, 7, 8, 8, 7, 6, 6, 5, 6, 5,\n",
    "                              5, 5, 4, 5, 4, 3, 3, 4, 3, 3,\n",
    "                              6, 6, 5, 4, 5, 4, 5, 4, 4, 3,\n",
    "                              2, 2, 1, 4, 4, 2, 1, 1, 2, 1]})\n",
    "\n",
    "#view first ten rows of DataFrame \n",
    "df[:10]"
   ]
  },
  {
   "cell_type": "code",
   "execution_count": 4,
   "metadata": {},
   "outputs": [
    {
     "data": {
      "text/html": [
       "<div>\n",
       "<style scoped>\n",
       "    .dataframe tbody tr th:only-of-type {\n",
       "        vertical-align: middle;\n",
       "    }\n",
       "\n",
       "    .dataframe tbody tr th {\n",
       "        vertical-align: top;\n",
       "    }\n",
       "\n",
       "    .dataframe thead th {\n",
       "        text-align: right;\n",
       "    }\n",
       "</style>\n",
       "<table border=\"1\" class=\"dataframe\">\n",
       "  <thead>\n",
       "    <tr style=\"text-align: right;\">\n",
       "      <th></th>\n",
       "      <th>sum_sq</th>\n",
       "      <th>df</th>\n",
       "      <th>F</th>\n",
       "      <th>PR(&gt;F)</th>\n",
       "    </tr>\n",
       "  </thead>\n",
       "  <tbody>\n",
       "    <tr>\n",
       "      <th>C(program)</th>\n",
       "      <td>3.610000e+01</td>\n",
       "      <td>1.0</td>\n",
       "      <td>6.563636e+01</td>\n",
       "      <td>2.983934e-09</td>\n",
       "    </tr>\n",
       "    <tr>\n",
       "      <th>C(gender)</th>\n",
       "      <td>6.760000e+01</td>\n",
       "      <td>1.0</td>\n",
       "      <td>1.229091e+02</td>\n",
       "      <td>1.714432e-12</td>\n",
       "    </tr>\n",
       "    <tr>\n",
       "      <th>C(division)</th>\n",
       "      <td>1.960000e+01</td>\n",
       "      <td>1.0</td>\n",
       "      <td>3.563636e+01</td>\n",
       "      <td>1.185218e-06</td>\n",
       "    </tr>\n",
       "    <tr>\n",
       "      <th>C(program):C(gender)</th>\n",
       "      <td>4.046860e-30</td>\n",
       "      <td>1.0</td>\n",
       "      <td>7.357928e-30</td>\n",
       "      <td>1.000000e+00</td>\n",
       "    </tr>\n",
       "    <tr>\n",
       "      <th>C(program):C(division)</th>\n",
       "      <td>4.000000e-01</td>\n",
       "      <td>1.0</td>\n",
       "      <td>7.272727e-01</td>\n",
       "      <td>4.001069e-01</td>\n",
       "    </tr>\n",
       "    <tr>\n",
       "      <th>C(gender):C(division)</th>\n",
       "      <td>1.000000e-01</td>\n",
       "      <td>1.0</td>\n",
       "      <td>1.818182e-01</td>\n",
       "      <td>6.726702e-01</td>\n",
       "    </tr>\n",
       "    <tr>\n",
       "      <th>C(program):C(gender):C(division)</th>\n",
       "      <td>1.000000e-01</td>\n",
       "      <td>1.0</td>\n",
       "      <td>1.818182e-01</td>\n",
       "      <td>6.726702e-01</td>\n",
       "    </tr>\n",
       "    <tr>\n",
       "      <th>Residual</th>\n",
       "      <td>1.760000e+01</td>\n",
       "      <td>32.0</td>\n",
       "      <td>NaN</td>\n",
       "      <td>NaN</td>\n",
       "    </tr>\n",
       "  </tbody>\n",
       "</table>\n",
       "</div>"
      ],
      "text/plain": [
       "                                        sum_sq    df             F  \\\n",
       "C(program)                        3.610000e+01   1.0  6.563636e+01   \n",
       "C(gender)                         6.760000e+01   1.0  1.229091e+02   \n",
       "C(division)                       1.960000e+01   1.0  3.563636e+01   \n",
       "C(program):C(gender)              4.046860e-30   1.0  7.357928e-30   \n",
       "C(program):C(division)            4.000000e-01   1.0  7.272727e-01   \n",
       "C(gender):C(division)             1.000000e-01   1.0  1.818182e-01   \n",
       "C(program):C(gender):C(division)  1.000000e-01   1.0  1.818182e-01   \n",
       "Residual                          1.760000e+01  32.0           NaN   \n",
       "\n",
       "                                        PR(>F)  \n",
       "C(program)                        2.983934e-09  \n",
       "C(gender)                         1.714432e-12  \n",
       "C(division)                       1.185218e-06  \n",
       "C(program):C(gender)              1.000000e+00  \n",
       "C(program):C(division)            4.001069e-01  \n",
       "C(gender):C(division)             6.726702e-01  \n",
       "C(program):C(gender):C(division)  6.726702e-01  \n",
       "Residual                                   NaN  "
      ]
     },
     "execution_count": 4,
     "metadata": {},
     "output_type": "execute_result"
    }
   ],
   "source": [
    "import statsmodels.api as sm\n",
    "from statsmodels.formula.api import ols\n",
    "\n",
    "#perform three-way ANOVA\n",
    "model = ols(\"\"\"height ~ C(program) + C(gender) + C(division) +\n",
    "               C(program):C(gender) + C(program):C(division) + C(gender):C(division) +\n",
    "               C(program):C(gender):C(division)\"\"\", data=df).fit()\n",
    "\n",
    "sm.stats.anova_lm(model, typ=2)\n",
    "\n",
    "\"\"\"\n",
    "In conclusion, we would state that training program, gender, and division are all significant predictors of the jumping height increase among players.\n",
    "\n",
    "We would also state that there are no significant interaction effects between these three factors.\n",
    "\n",
    "\"\"\""
   ]
  },
  {
   "cell_type": "code",
   "execution_count": 8,
   "metadata": {},
   "outputs": [
    {
     "data": {
      "text/html": [
       "<div>\n",
       "<style scoped>\n",
       "    .dataframe tbody tr th:only-of-type {\n",
       "        vertical-align: middle;\n",
       "    }\n",
       "\n",
       "    .dataframe tbody tr th {\n",
       "        vertical-align: top;\n",
       "    }\n",
       "\n",
       "    .dataframe thead th {\n",
       "        text-align: right;\n",
       "    }\n",
       "</style>\n",
       "<table border=\"1\" class=\"dataframe\">\n",
       "  <thead>\n",
       "    <tr style=\"text-align: right;\">\n",
       "      <th></th>\n",
       "      <th>patient</th>\n",
       "      <th>drug</th>\n",
       "      <th>response</th>\n",
       "    </tr>\n",
       "  </thead>\n",
       "  <tbody>\n",
       "    <tr>\n",
       "      <th>0</th>\n",
       "      <td>1</td>\n",
       "      <td>1</td>\n",
       "      <td>30</td>\n",
       "    </tr>\n",
       "    <tr>\n",
       "      <th>1</th>\n",
       "      <td>1</td>\n",
       "      <td>2</td>\n",
       "      <td>28</td>\n",
       "    </tr>\n",
       "    <tr>\n",
       "      <th>2</th>\n",
       "      <td>1</td>\n",
       "      <td>3</td>\n",
       "      <td>16</td>\n",
       "    </tr>\n",
       "    <tr>\n",
       "      <th>3</th>\n",
       "      <td>1</td>\n",
       "      <td>4</td>\n",
       "      <td>34</td>\n",
       "    </tr>\n",
       "    <tr>\n",
       "      <th>4</th>\n",
       "      <td>2</td>\n",
       "      <td>1</td>\n",
       "      <td>14</td>\n",
       "    </tr>\n",
       "  </tbody>\n",
       "</table>\n",
       "</div>"
      ],
      "text/plain": [
       "   patient  drug  response\n",
       "0        1     1        30\n",
       "1        1     2        28\n",
       "2        1     3        16\n",
       "3        1     4        34\n",
       "4        2     1        14"
      ]
     },
     "execution_count": 8,
     "metadata": {},
     "output_type": "execute_result"
    }
   ],
   "source": [
    "#Repeated ANNOVA\n",
    "\n",
    "\"\"\"\n",
    "A repeated measures ANOVA is used to determine whether or not there is a statistically significant difference \n",
    "between the means of three or more groups in which the same subjects show up in each group\n",
    "\n",
    "\"\"\"\n",
    "\n",
    "\"\"\"\n",
    "Researchers want to know if four different drugs lead to different reaction times. \n",
    "To test this, they measure the reaction time of five patients on the four different drugs.\n",
    "\n",
    "Since each patient is measured on each of the four drugs, we will use a repeated measures ANOVA to determine if the mean reaction time differs between drugs.\n",
    "\n",
    "\"\"\"\n",
    "\n",
    "import numpy as np\n",
    "import pandas as pd\n",
    "\n",
    "#create data\n",
    "df = pd.DataFrame({'patient': np.repeat([1, 2, 3, 4, 5], 4),\n",
    "                   'drug': np.tile([1, 2, 3, 4], 5),\n",
    "                   'response': [30, 28, 16, 34,\n",
    "                                14, 18, 10, 22,\n",
    "                                24, 20, 18, 30,\n",
    "                                38, 34, 20, 44, \n",
    "                                26, 28, 14, 30]})\n",
    "\n",
    "#view first ten rows of data \n",
    "df.head()"
   ]
  },
  {
   "cell_type": "code",
   "execution_count": 11,
   "metadata": {},
   "outputs": [
    {
     "name": "stdout",
     "output_type": "stream",
     "text": [
      "              Anova\n",
      "==================================\n",
      "     F Value Num DF  Den DF Pr > F\n",
      "----------------------------------\n",
      "drug 24.7589 3.0000 12.0000 0.0000\n",
      "==================================\n",
      "\n"
     ]
    }
   ],
   "source": [
    "from statsmodels.stats.anova import AnovaRM\n",
    "\n",
    "#perform the repeated measures ANOVA\n",
    "print(AnovaRM(data=df, depvar='response', subject='patient', within=['drug']).fit())\n",
    "\n",
    "#Since this p-value is less than 0.05, we reject the null hypothesis and conclude that there is a statistically \n",
    "# significant difference in mean response times between the four drugs.\n",
    "# Results showed that the type of drug used lead to statistically significant differences in response time (F(3, 12) = 24.75887, p < 0.001).\n"
   ]
  },
  {
   "cell_type": "markdown",
   "metadata": {},
   "source": [
    "# Non-Paramteric test"
   ]
  },
  {
   "cell_type": "markdown",
   "metadata": {},
   "source": [
    "1. Wilcoxon Test\n",
    "    * one sample\n",
    "    * two sample\n",
    "        1. Indepenedent (sum rank) --> Mann Whitney\n",
    "        2. dependent (signed rank)\n"
   ]
  },
  {
   "cell_type": "code",
   "execution_count": 1,
   "metadata": {},
   "outputs": [],
   "source": [
    "# the differences in height between cross- and self-fertilized corn plants is given as follows\n",
    "d = [6, 8, 14, 16, 23, 24, 28, 29, 41, -48, 49, 56, 60, -67, 75]\n",
    "# Cross-fertilized plants appear to be higher. To test the null hypothesis that there is no height difference, we can apply the two-sided test"
   ]
  },
  {
   "cell_type": "code",
   "execution_count": 6,
   "metadata": {},
   "outputs": [
    {
     "data": {
      "text/plain": [
       "(24.0, 0.041259765625)"
      ]
     },
     "execution_count": 6,
     "metadata": {},
     "output_type": "execute_result"
    }
   ],
   "source": [
    "# Wilcoxon matched pair test is a non-parametric hypothesis test that compares the median of two paired groups and tells if they are identically distributed or not. \n",
    "from scipy.stats import wilcoxon\n",
    "res = wilcoxon(d)\n",
    "res.statistic, res.pvalue\n",
    "# Hence, we would reject the null hypothesis at a confidence level of 5%, concluding that there is a difference in height between the groups. \n"
   ]
  },
  {
   "cell_type": "code",
   "execution_count": 11,
   "metadata": {},
   "outputs": [
    {
     "name": "stdout",
     "output_type": "stream",
     "text": [
      "Wilcoxon signed-rank statistic: 0.0\n",
      "p-value: 1.0\n"
     ]
    }
   ],
   "source": [
    "# Define your data\n",
    "# one sample test\n",
    "data = [22, 33, 45, 55, 12, 33, 56, 78, 34, 23]\n",
    "\n",
    "# Define the median you want to compare with\n",
    "median_to_compare = 100000\n",
    "\n",
    "# Center the data around the alternative median\n",
    "centered_data = [x - median_to_compare for x in data]\n",
    "\n",
    "# Perform Wilcoxon signed-rank test\n",
    "statistic, p_value = wilcoxon(centered_data, alternative='greater')\n",
    "\n",
    "# Print the results\n",
    "print(\"Wilcoxon signed-rank statistic:\", statistic)\n",
    "print(\"p-value:\", p_value)"
   ]
  },
  {
   "cell_type": "code",
   "execution_count": 7,
   "metadata": {},
   "outputs": [
    {
     "data": {
      "text/plain": [
       "WilcoxonResult(statistic=5.0, pvalue=0.5625)"
      ]
     },
     "execution_count": 7,
     "metadata": {},
     "output_type": "execute_result"
    }
   ],
   "source": [
    "# In the example above, the differences in height between paired plants are provided to wilcoxon directly.\n",
    "# Alternatively, wilcoxon accepts two samples of equal length, calculates the differences between paired elements, then performs the test. \n",
    "# Consider the samples x and y:\n",
    "\n",
    "\n",
    "# two sampled paired test\n",
    "import numpy as np\n",
    "x = np.array([0.5, 0.825, 0.375, 0.5])\n",
    "y = np.array([0.525, 0.775, 0.325, 0.55])\n",
    "res = wilcoxon(x, y, alternative='greater')\n",
    "res"
   ]
  },
  {
   "cell_type": "code",
   "execution_count": 13,
   "metadata": {},
   "outputs": [
    {
     "data": {
      "text/plain": [
       "MannwhitneyuResult(statistic=17.0, pvalue=0.1111111111111111)"
      ]
     },
     "execution_count": 13,
     "metadata": {},
     "output_type": "execute_result"
    }
   ],
   "source": [
    "# two sample independent test\n",
    "# Mann Whiteney test (handle ties cases unlike rank sums)\n",
    "\n",
    "from scipy.stats import mannwhitneyu\n",
    "\n",
    "males = [19, 22, 16, 29, 24]\n",
    "females = [20, 11, 17, 12]\n",
    "mannwhitneyu(males, females, method=\"exact\") #exact i"
   ]
  },
  {
   "cell_type": "code",
   "execution_count": 1,
   "metadata": {},
   "outputs": [
    {
     "data": {
      "text/plain": [
       "(-0.6708203932499369, 0.5023349543605021)"
      ]
     },
     "execution_count": 1,
     "metadata": {},
     "output_type": "execute_result"
    }
   ],
   "source": [
    "#runs test (Wald-Wolfowitz runs test)\n",
    "\n",
    "# Runs test is a statistical test that is used to determine whether or not a dataset comes from a random process.\n",
    "\n",
    "\n",
    "from statsmodels.sandbox.stats.runs import runstest_1samp \n",
    "\n",
    "#create dataset\n",
    "data = [12, 16, 16, 15, 14, 18, 19, 21, 13, 13]\n",
    "\n",
    "#Perform Runs test\n",
    "# for sample n1<20 and n2<20\n",
    "# G is calucation and test using G table\n",
    "\n",
    "# for greater than 20 ztest is used\n",
    "\n",
    "runstest_1samp(data, correction=False)\n",
    "# The z-test statistic turns out to be -0.67082 and the corresponding p-value is 0.50233. Since this p-value is not less than α = .05, we fail to reject the null hypothesis. We have sufficient evidence to say that the data was produced in a random manner."
   ]
  },
  {
   "cell_type": "code",
   "execution_count": 3,
   "metadata": {},
   "outputs": [
    {
     "data": {
      "text/plain": [
       "(0.4016096644512493, 0.6879713161806407)"
      ]
     },
     "execution_count": 3,
     "metadata": {},
     "output_type": "execute_result"
    }
   ],
   "source": [
    "data = ['H','H','T','H','T','T','T','H','T']\n",
    "data = [0,0,1,0,1,1,1,0,1]\n",
    "\n",
    "# for numeric meadian or mean is used as cutoff\n",
    " \n",
    "runstest_1samp(data, correction=False)\n"
   ]
  },
  {
   "cell_type": "code",
   "execution_count": 21,
   "metadata": {},
   "outputs": [
    {
     "data": {
      "text/plain": [
       "(-2.128531221591622, 0.0332930641698115)"
      ]
     },
     "execution_count": 21,
     "metadata": {},
     "output_type": "execute_result"
    }
   ],
   "source": [
    "from statsmodels.sandbox.stats.runs import runstest_2samp\n",
    "\n",
    "d1 = [1,2,3,4,5]\n",
    "d2 = [1000,10000,3000.5,60000.75]\n",
    "\n",
    "#should be floating point data atleast in one list d2\n",
    "\n",
    "runstest_2samp(d1,d2)\n",
    "\n",
    "# we reject the null hypothesis of having both data came from same distribution"
   ]
  },
  {
   "cell_type": "code",
   "execution_count": 36,
   "metadata": {},
   "outputs": [],
   "source": [
    "#  one-sample Kolmogorov-Smirnov test for goodness of fit.\n",
    "# This test compares the underlying distribution F(x) of a sample against a given continuous distribution G(x).\n",
    "\n",
    "import numpy as np\n",
    "from  scipy import stats\n",
    "import seaborn as sns"
   ]
  },
  {
   "cell_type": "code",
   "execution_count": 64,
   "metadata": {},
   "outputs": [
    {
     "data": {
      "text/plain": [
       "KstestResult(statistic=0.5333222967193604, pvalue=4.294509346688844e-27, statistic_location=0.31723592758455404, statistic_sign=1)"
      ]
     },
     "execution_count": 64,
     "metadata": {},
     "output_type": "execute_result"
    }
   ],
   "source": [
    "rng = np.random.default_rng(20)\n",
    "x = stats.norm.rvs(size=100, random_state=rng) # Prepare normal distributed data\n",
    "stats.ks_1samp(x, stats.chi2(2).cdf) #two degrees of freedom    "
   ]
  },
  {
   "cell_type": "code",
   "execution_count": 62,
   "metadata": {},
   "outputs": [
    {
     "data": {
      "text/plain": [
       "<bound method rv_continuous.cdf of <scipy.stats._continuous_distns.chi2_gen object at 0x000001B7C4EAF7F0>>"
      ]
     },
     "execution_count": 62,
     "metadata": {},
     "output_type": "execute_result"
    }
   ],
   "source": [
    "stats.chi2.cdf"
   ]
  },
  {
   "cell_type": "code",
   "execution_count": 66,
   "metadata": {},
   "outputs": [
    {
     "data": {
      "text/plain": [
       "KstestResult(statistic=0.49818181818181817, pvalue=2.314568958008009e-12, statistic_location=0.0455010502903857, statistic_sign=-1)"
      ]
     },
     "execution_count": 66,
     "metadata": {},
     "output_type": "execute_result"
    }
   ],
   "source": [
    "# two sample Kolmogorov-Smirnov test\n",
    "\n",
    "rng = np.random.default_rng()\n",
    "sample1 = stats.uniform.rvs(size=100, random_state=rng)\n",
    "sample2 = stats.norm.rvs(size=110, random_state=rng)\n",
    "stats.ks_2samp(sample1, sample2)"
   ]
  },
  {
   "cell_type": "code",
   "execution_count": 1,
   "metadata": {},
   "outputs": [
    {
     "name": "stdout",
     "output_type": "stream",
     "text": [
      "chi_square_test_statistic is : 5.0127344877344875\n",
      "p_value : 0.542180861413329\n",
      "12.591587243743977\n"
     ]
    }
   ],
   "source": [
    "# chi2 goodness of fit\n",
    "\n",
    "# importing packages \n",
    "import scipy.stats as stats \n",
    "import numpy as np \n",
    "  \n",
    "# no of hours a student studies \n",
    "# in a week vs expected no of hours \n",
    "observed_data = [8, 6, 10, 7, 8, 11, 9] \n",
    "expected_data = [9, 8, 11, 8, 10, 7, 6] \n",
    "  \n",
    "  \n",
    "# Chi-Square Goodness of Fit Test \n",
    "chi_square_test_statistic, p_value = stats.chisquare( \n",
    "    observed_data, expected_data) \n",
    "  \n",
    "# chi square test statistic and p value \n",
    "print('chi_square_test_statistic is : ' +\n",
    "      str(chi_square_test_statistic)) \n",
    "print('p_value : ' + str(p_value)) \n",
    "  \n",
    "  \n",
    "# find Chi-Square critical value \n",
    "print(stats.chi2.ppf(1-0.05, df=6)) "
   ]
  },
  {
   "cell_type": "code",
   "execution_count": 3,
   "metadata": {},
   "outputs": [
    {
     "data": {
      "text/plain": [
       "Chi2ContingencyResult(statistic=0.8640353908896108, pvalue=0.6491978887380976, dof=2, expected_freq=array([[115. ,  92.5,  42.5],\n",
       "       [115. ,  92.5,  42.5]]))"
      ]
     },
     "execution_count": 3,
     "metadata": {},
     "output_type": "execute_result"
    }
   ],
   "source": [
    "# chi2 test of independence\n",
    "\n",
    "# Suppose we want to know whether or not gender is associated with political party preference. \n",
    "# We take a simple random sample of 500 voters and survey them on their political party preference. The following table shows the results of the survey:\n",
    "\n",
    "data = [[120, 90, 40],\n",
    "        [110, 95, 45]]\n",
    "\n",
    "import scipy.stats as stats\n",
    "\n",
    "#perform the Chi-Square Test of Independence\n",
    "stats.chi2_contingency(data)\n",
    "# with expected vales\n",
    "\n"
   ]
  },
  {
   "cell_type": "code",
   "execution_count": null,
   "metadata": {},
   "outputs": [],
   "source": [
    "# Assumptions of ch2 test\n",
    "\n",
    "# Assumption 1: Both variables are categorical.\n",
    "# Gender: This variable can only take on two categories – Male or Female.\n",
    "# Political Party Preference: This variable can take on three categories – Republican, Democrat, or Independent.\n",
    "\n",
    "\n",
    "# Assumption 2: All observations are independent. (two people should not from same family)\n",
    "# It’s assumed that every observation in the dataset is independent. \n",
    "# That is, the value of one observation in the dataset does not affect the value of any other observation.\n",
    "# The only way to check this assumption is to verify that each individual included in this dataset was surveyed independently of every other individual.\n",
    "# If we used a random sampling method (like simple random sampling) then this assumption is likely met.\n",
    "\n",
    "\n",
    "# Assumption 3: Cells in the contingency table are mutually exclusive.\n",
    "# We can verify that this assumption is met by checking that no individual has been counted in more than one cell. \n",
    "# Assuming each individual in the dataset was only surveyed once, this assumption should be met \n",
    "# because it’s not possible for an individual to be, say, a Male Republican and a Female Democrat simultaneously.\n",
    "\n",
    "# Assumption 4: Expected value of cells should be 5 or greater in at least 80% of cells.\n",
    "# It’s assumed that the expected value of cells in the contingency table should be 5 or greater in at least 80% of cells and \n",
    "# that no cell should have an expected value less than 1.\n",
    "\n",
    "\n",
    "# Expected value = (row sum * column sum) / table sum.\n",
    "# For example, the expected value for Male Republicans is: (230*250) / 500 = 115."
   ]
  },
  {
   "cell_type": "code",
   "execution_count": 4,
   "metadata": {},
   "outputs": [
    {
     "name": "stdout",
     "output_type": "stream",
     "text": [
      "-0.41818181818181815\n",
      "0.22911284098281892\n"
     ]
    },
    {
     "name": "stderr",
     "output_type": "stream",
     "text": [
      "C:\\Users\\hp\\AppData\\Local\\Temp\\ipykernel_10696\\4048725809.py:4: DeprecationWarning: \n",
      "Pyarrow will become a required dependency of pandas in the next major release of pandas (pandas 3.0),\n",
      "(to allow more performant data types, such as the Arrow string type, and better interoperability with other libraries)\n",
      "but was not found to be installed on your system.\n",
      "If this would cause problems for you,\n",
      "please provide us feedback at https://github.com/pandas-dev/pandas/issues/54466\n",
      "        \n",
      "  import pandas as pd\n"
     ]
    }
   ],
   "source": [
    "# One special type of correlation is called Spearman Rank Correlation, which is used to measure the correlation between two ranked variables. \n",
    "# (e.g. rank of a student’s math exam score vs. rank of their science exam score in a class).\n",
    "\n",
    "import pandas as pd\n",
    "\n",
    "#create DataFrame\n",
    "df = pd.DataFrame({'student': ['A', 'B', 'C', 'D', 'E', 'F', 'G', 'H', 'I', 'J'],\n",
    "                   'math': [70, 78, 90, 87, 84, 86, 91, 74, 83, 85],\n",
    "                   'science': [90, 94, 79, 86, 84, 83, 88, 92, 76, 75]})\n",
    "\n",
    "from scipy.stats import spearmanr\n",
    "\n",
    "#calculate Spearman Rank correlation and corresponding p-value\n",
    "rho, p = spearmanr(df['math'], df['science'])\n",
    "\n",
    "#print Spearman rank correlation and p-value\n",
    "print(rho)\n",
    "\n",
    "print(p)\n",
    "\n",
    "\n",
    "\n",
    "# From the output we can see that the Spearman rank correlation is -0.41818 and the corresponding p-value is 0.22911.\n",
    "# This indicates that there is a negative correlation between the science and math exam scores.\n",
    "# However, since the p-value of the correlation is not less than 0.05, the correlation is not statistically significant.            "
   ]
  },
  {
   "cell_type": "code",
   "execution_count": 2,
   "metadata": {},
   "outputs": [
    {
     "data": {
      "text/plain": [
       "0.33628318584070793"
      ]
     },
     "execution_count": 2,
     "metadata": {},
     "output_type": "execute_result"
    }
   ],
   "source": [
    "# Kohen's kappa acore\n",
    "\n",
    "\"\"\"\n",
    "Suppose two art museum curators are asked to rate 15 paintings on whether they’re good enough to be shown in a new exhibit.\n",
    "\n",
    "\"\"\"\n",
    "\n",
    "from sklearn.metrics import cohen_kappa_score\n",
    "\n",
    "#define array of ratings for both raters\n",
    "rater1 = [0, 1, 1, 1, 0, 0, 1, 0, 1, 0, 1, 1, 0, 1, 0]\n",
    "rater2 = [0, 0, 1, 1, 0, 1, 0, 0, 1, 1, 0, 1, 0, 1, 0]\n",
    "\n",
    "#calculate Cohen's Kappa\n",
    "cohen_kappa_score(rater1, rater2)\n",
    "\n",
    "# Cohen’s Kappa turns out to be 0.33628.\n",
    "\n",
    "# Based on the table earlier, we would say that the two raters only had a “fair” level of agreement.\n"
   ]
  },
  {
   "cell_type": "code",
   "execution_count": 54,
   "metadata": {},
   "outputs": [
    {
     "data": {
      "text/plain": [
       "-0.06719367588932806"
      ]
     },
     "execution_count": 54,
     "metadata": {},
     "output_type": "execute_result"
    }
   ],
   "source": [
    "# kohen's kappa version for more than 2\n",
    "# fleiss_kappa\n",
    "from statsmodels.stats.inter_rater import fleiss_kappa\n",
    "import pandas as pd\n",
    "\n",
    "rater1 = [0, 1, 1, 1, 0, 0, 1, 0, 1, 0, 1, 1, 0, 1, 0]\n",
    "rater2 = [0, 0, 1, 1, 0, 1, 0, 0, 1, 1, 0, 1, 0, 1, 0]\n",
    "rater3 = [0, 1, 1, 1, 0, 0, 1, 0, 1, 1, 0, 1, 0, 1, 0]\n",
    "\n",
    "rating_table = pd.DataFrame({'rater1':rater1,\"rater2\":rater2,\"rater3\":rater3})\n",
    "melted_table = pd.melt(rating_table)\n",
    "crosstab_table = pd.crosstab(melted_table[\"variable\"],melted_table[\"value\"])\n",
    "\n",
    "fleiss_kappa(crosstab_table)\n"
   ]
  },
  {
   "cell_type": "code",
   "execution_count": 55,
   "metadata": {},
   "outputs": [
    {
     "data": {
      "text/plain": [
       "ShapiroResult(statistic=0.992694081874749, pvalue=0.8689366682774949)"
      ]
     },
     "execution_count": 55,
     "metadata": {},
     "output_type": "execute_result"
    }
   ],
   "source": [
    "# Shapiro-Wilk Test on Normally Distributed Data\n",
    "\n",
    "from numpy.random import seed\n",
    "from numpy.random import randn\n",
    "from scipy.stats import shapiro\n",
    "\n",
    "#set seed (e.g. make this example reproducible)\n",
    "seed(0)\n",
    "\n",
    "#generate dataset of 100 random values that follow a standard normal distribution\n",
    "data = randn(100)\n",
    "\n",
    "#perform Shapiro-Wilk test\n",
    "shapiro(data)\n",
    "\n",
    "# From the output we can see that the test statistic is 0.9927 and the corresponding p-value is 0.8689.\n",
    "\n",
    "# Since the p-value is not less than .05, we fail to reject the null hypothesis.\n",
    "#  We do not have sufficient evidence to say that the sample data does not come from a normal distribution."
   ]
  },
  {
   "cell_type": "code",
   "execution_count": 56,
   "metadata": {},
   "outputs": [
    {
     "data": {
      "text/plain": [
       "ShapiroResult(statistic=0.9581912025699156, pvalue=0.0029943533404083625)"
      ]
     },
     "execution_count": 56,
     "metadata": {},
     "output_type": "execute_result"
    }
   ],
   "source": [
    "from numpy.random import poisson\n",
    "#set seed (e.g. make this example reproducible)\n",
    "seed(0)\n",
    "\n",
    "#generate dataset of 100 values that follow a Poisson distribution with mean=5\n",
    "data = poisson(5, 100)\n",
    "\n",
    "shapiro(data)\n"
   ]
  },
  {
   "cell_type": "code",
   "execution_count": null,
   "metadata": {},
   "outputs": [],
   "source": [
    "# From the output we can see that the test statistic is 0.9582 and the corresponding p-value is 0.00299.\n",
    "\n",
    "# Since the p-value is less than .05, we reject the null hypothesis.\n",
    "#  We have sufficient evidence to say that the sample data does not come from a normal distribution."
   ]
  }
 ],
 "metadata": {
  "interpreter": {
   "hash": "8ecf32b014e4573f21420448c4fb95ba417cee4abeda6b57d6872dce4df7499f"
  },
  "kernelspec": {
   "display_name": "Python 3.9.7 64-bit ('Environment': venv)",
   "name": "python3"
  },
  "language_info": {
   "codemirror_mode": {
    "name": "ipython",
    "version": 3
   },
   "file_extension": ".py",
   "mimetype": "text/x-python",
   "name": "python",
   "nbconvert_exporter": "python",
   "pygments_lexer": "ipython3",
   "version": "3.9.7"
  },
  "orig_nbformat": 4
 },
 "nbformat": 4,
 "nbformat_minor": 2
}
